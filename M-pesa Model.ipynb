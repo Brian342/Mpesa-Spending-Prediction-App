{
 "cells": [
  {
   "cell_type": "code",
   "execution_count": null,
   "id": "6c7a0469-0d94-4803-b9d5-a0168f34d425",
   "metadata": {},
   "outputs": [],
   "source": []
  }
 ],
 "metadata": {
  "kernelspec": {
   "display_name": "",
   "name": ""
  },
  "language_info": {
   "name": ""
  }
 },
 "nbformat": 4,
 "nbformat_minor": 5
}
