{
 "cells": [
  {
   "cell_type": "code",
   "execution_count": null,
   "id": "4d7556d0-ebe0-453d-904c-b18bf7856768",
   "metadata": {},
   "outputs": [],
   "source": []
  }
 ],
 "metadata": {
  "kernelspec": {
   "display_name": "",
   "name": ""
  },
  "language_info": {
   "name": ""
  }
 },
 "nbformat": 4,
 "nbformat_minor": 5
}
